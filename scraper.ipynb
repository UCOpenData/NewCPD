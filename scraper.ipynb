{
 "cells": [
  {
   "cell_type": "code",
   "execution_count": null,
   "metadata": {},
   "outputs": [],
   "source": [
    "#Importing libraries\n",
    "import requests\n",
    "import pandas as pd\n",
    "from bs4 import BeautifulSoup as bs"
   ]
  },
  {
   "cell_type": "code",
   "execution_count": 5,
   "metadata": {},
   "outputs": [
    {
     "name": "stdout",
     "output_type": "stream",
     "text": [
      "https://incidentreports.uchicago.edu/incidentReportArchive.php?startDate=1277960400&endDate=1635915600&offset=0\n",
      "https://incidentreports.uchicago.edu/incidentReportArchive.php?startDate=1277960400&endDate=1635915600&offset=5\n",
      "https://incidentreports.uchicago.edu/incidentReportArchive.php?startDate=1277960400&endDate=1635915600&offset=10\n",
      "https://incidentreports.uchicago.edu/incidentReportArchive.php?startDate=1277960400&endDate=1635915600&offset=15\n",
      "https://incidentreports.uchicago.edu/incidentReportArchive.php?startDate=1277960400&endDate=1635915600&offset=20\n"
     ]
    }
   ],
   "source": [
    "for i in range(0,5):\n",
    "    print(\"https://incidentreports.uchicago.edu/incidentReportArchive.php?startDate\" + \n",
    "\"=1277960400&endDate=1635915600&offset=\" + str(i*5))"
   ]
  }
 ],
 "metadata": {
  "interpreter": {
   "hash": "dcfe9890eafba15cb7c32cab0aab5ea6f62a684385ac24c4a2ebec19cb42b6be"
  },
  "kernelspec": {
   "display_name": "Python 3.8.8 64-bit ('base': conda)",
   "name": "python3"
  },
  "language_info": {
   "codemirror_mode": {
    "name": "ipython",
    "version": 3
   },
   "file_extension": ".py",
   "mimetype": "text/x-python",
   "name": "python",
   "nbconvert_exporter": "python",
   "pygments_lexer": "ipython3",
   "version": "3.8.8"
  },
  "orig_nbformat": 4
 },
 "nbformat": 4,
 "nbformat_minor": 2
}
