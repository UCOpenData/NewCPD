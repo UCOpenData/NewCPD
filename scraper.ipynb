{
 "cells": [
  {
   "cell_type": "code",
   "execution_count": null,
   "metadata": {},
   "outputs": [],
   "source": [
    "#Importing libraries\n",
    "import requests\n",
    "import pandas as pd\n",
    "from bs4 import BeautifulSoup as bs"
   ]
  },
  {
   "cell_type": "code",
   "execution_count": null,
   "metadata": {},
   "outputs": [],
   "source": [
    "def read(end):\n",
    "    for i in range(0, end):\n",
    "        offset = i * 5\n",
    "        website = \"https://incidentreports.uchicago.edu/incidentReportArchive.php?startDate=1277960400&endDate=\"+ \"1640930400\" + \"&offset=\" + str(offset)\n",
    "        \n",
    "        #create dataframe for first page\n",
    "        if offset == 0:\n",
    "            df = pd.read_html(website)[0]\n",
    "        #apend data from new pages to dataframe\n",
    "        else:\n",
    "            # Get table data\n",
    "            try:\n",
    "                newdata = pd.read_html(website)[0]\n",
    "                df = df.append(newdata)\n",
    "            except:\n",
    "                print(\"Error! Broken Page:\" + website)\n",
    "        print(i)\n",
    "    return(df)"
   ]
  },
  {
   "cell_type": "code",
   "execution_count": null,
   "metadata": {},
   "outputs": [],
   "source": [
    "#iterates through pages, and creates website link string\n",
    "df = read(3093)\n",
    "df = df.reset_index().drop([\"index\",],axis=1)"
   ]
  },
  {
   "cell_type": "code",
   "execution_count": null,
   "metadata": {},
   "outputs": [],
   "source": [
    "df.to_csv(\"newoutput.csv\")"
   ]
  }
 ],
 "metadata": {
  "interpreter": {
   "hash": "dcfe9890eafba15cb7c32cab0aab5ea6f62a684385ac24c4a2ebec19cb42b6be"
  },
  "kernelspec": {
   "display_name": "Python 3.8.8 64-bit ('base': conda)",
   "name": "python3"
  },
  "language_info": {
   "codemirror_mode": {
    "name": "ipython",
    "version": 3
   },
   "file_extension": ".py",
   "mimetype": "text/x-python",
   "name": "python",
   "nbconvert_exporter": "python",
   "pygments_lexer": "ipython3",
   "version": "3.8.8"
  },
  "orig_nbformat": 4
 },
 "nbformat": 4,
 "nbformat_minor": 2
}
